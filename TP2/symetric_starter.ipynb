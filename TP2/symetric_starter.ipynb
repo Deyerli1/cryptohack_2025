{
 "cells": [
  {
   "cell_type": "markdown",
   "id": "d7be6b89",
   "metadata": {},
   "source": [
    "### Passwords as Keys ###\n",
    "\n",
    "Basicamente un brute force attack. Primero quise hacerlo pegandole al endpoint de decrypt, hasta que me di cuenta que era muy lento y busque un flaco que levanto su propio AES, lo cual tiene mucho mas sentido."
   ]
  },
  {
   "cell_type": "code",
   "execution_count": null,
   "id": "eb0994fa",
   "metadata": {},
   "outputs": [
    {
     "name": "stdout",
     "output_type": "stream",
     "text": [
      "Response from server:\n",
      "Loaded 99171 words from words.txt\n",
      "Found password: b'crypto{k3y5__r__n07__p455w0rdz?}'\n"
     ]
    }
   ],
   "source": [
    "import requests\n",
    "import json\n",
    "import hashlib\n",
    "import threading\n",
    "from Crypto.Cipher import AES\n",
    "\n",
    "def decrypt_wordlist(wordlist, ciphertext):\n",
    "    for word in wordlist:\n",
    "        key = hashlib.md5(word.encode()).digest()\n",
    "        cipher = AES.new(key, AES.MODE_ECB)\n",
    "        plaintext = cipher.decrypt(bytes.fromhex(ciphertext))\n",
    "        if plaintext.startswith(b\"crypto{\"):\n",
    "            print(f\"Found password: {plaintext}\")\n",
    "            return word\n",
    "    return None\n",
    "\n",
    "def make_request(url):\n",
    "    \"\"\"Make a GET request to the specified URL and return the response\"\"\"\n",
    "    response = requests.get(url)\n",
    "    return response\n",
    "\n",
    "def load_wordlist(filename=\"words.txt\"):\n",
    "    \"\"\"Load passwords from the wordlist file\"\"\"\n",
    "    try:\n",
    "        with open(filename, 'r') as f:\n",
    "            words = [line.strip() for line in f.readlines()]\n",
    "        print(f\"Loaded {len(words)} words from {filename}\")\n",
    "        return words\n",
    "    except FileNotFoundError:\n",
    "        print(f\"File {filename} not found\")\n",
    "        return []\n",
    "\n",
    "# The endpoint URL\n",
    "ciphertext_url = \"https://aes.cryptohack.org/passwords_as_keys/encrypt_flag/\"\n",
    "# Make the request\n",
    "result = make_request(ciphertext_url)\n",
    "ciphertext = result.json()['ciphertext']\n",
    "wordlist = load_wordlist()\n",
    "word = decrypt_wordlist(wordlist, ciphertext)\n",
    "\n"
   ]
  }
 ],
 "metadata": {
  "kernelspec": {
   "display_name": "matematicaAplicada",
   "language": "python",
   "name": "python3"
  },
  "language_info": {
   "codemirror_mode": {
    "name": "ipython",
    "version": 3
   },
   "file_extension": ".py",
   "mimetype": "text/x-python",
   "name": "python",
   "nbconvert_exporter": "python",
   "pygments_lexer": "ipython3",
   "version": "3.12.11"
  }
 },
 "nbformat": 4,
 "nbformat_minor": 5
}
