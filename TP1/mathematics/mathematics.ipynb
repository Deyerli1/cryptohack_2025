{
 "cells": [
  {
   "cell_type": "markdown",
   "metadata": {},
   "source": [
    "### Greatest Common Divisor Solution ### \n",
    "\n",
    "No hay solucion, hay que codearlo nada mas y poner el numerito"
   ]
  },
  {
   "cell_type": "code",
   "execution_count": 1,
   "metadata": {},
   "outputs": [
    {
     "name": "stdout",
     "output_type": "stream",
     "text": [
      "1512\n"
     ]
    }
   ],
   "source": [
    "def euclides(a,b):\n",
    "    while b != 0:\n",
    "        new_a = b\n",
    "        new_b = a % b\n",
    "        a = new_a\n",
    "        b = new_b\n",
    "    return a\n",
    "\n",
    "print(euclides(52920, 66528))\n"
   ]
  },
  {
   "cell_type": "markdown",
   "metadata": {},
   "source": [
    "### Extended GCD ### \n",
    "\n",
    "Claude ayudo con esto.\n",
    "Key: -8404"
   ]
  },
  {
   "cell_type": "code",
   "execution_count": null,
   "metadata": {},
   "outputs": [
    {
     "name": "stdout",
     "output_type": "stream",
     "text": [
      "(1, 10245, -8404)\n"
     ]
    }
   ],
   "source": [
    "def extended_gcd(a, b):\n",
    "    if a == 0:\n",
    "        return b, 0, 1\n",
    "    \n",
    "    gcd, x1, y1 = extended_gcd(b % a, a)\n",
    "    x = y1 - (b // a) * x1\n",
    "    y = x1\n",
    "    \n",
    "    return gcd, x, y\n",
    "\n",
    "print(extended_gcd(26513,32321))\n"
   ]
  },
  {
   "cell_type": "markdown",
   "metadata": {},
   "source": [
    "### Modular Arithmetic 1 ###\n",
    "\n",
    "La diferencia de dificultad de este con el anterior es abismal.\n",
    "\n",
    "Key = 4"
   ]
  },
  {
   "cell_type": "code",
   "execution_count": null,
   "metadata": {},
   "outputs": [
    {
     "name": "stdout",
     "output_type": "stream",
     "text": [
      "5\n",
      "4\n"
     ]
    }
   ],
   "source": [
    "print(11%6)\n",
    "print(8146798528947%17)"
   ]
  },
  {
   "cell_type": "markdown",
   "metadata": {},
   "source": [
    "### Modular Arithmetic 2 ###\n",
    "\n",
    "Honestamente solo vi que el exponente 65536 y el primero 65537 diferian en 1, y le mande 1 para probar y esa era la respuesta.\n",
    "\n",
    "Pero tambien fermat. 273246787654 no es divisible por 65537 y 65537 es primo.\n",
    "\n",
    "Key = 1"
   ]
  },
  {
   "cell_type": "markdown",
   "metadata": {},
   "source": [
    "### Modular Inverting ###\n",
    "\n",
    "Usando fermat.\n",
    "\n",
    "Key = 9"
   ]
  },
  {
   "cell_type": "code",
   "execution_count": 53,
   "metadata": {},
   "outputs": [
    {
     "name": "stdout",
     "output_type": "stream",
     "text": [
      "1\n",
      "9\n"
     ]
    }
   ],
   "source": [
    "print((3 ** 12) % 13)\n",
    "print((3**11) % 13) ## porque queremos el equivalente mas chiquito"
   ]
  }
 ],
 "metadata": {
  "kernelspec": {
   "display_name": "matematicaAplicada",
   "language": "python",
   "name": "python3"
  },
  "language_info": {
   "codemirror_mode": {
    "name": "ipython",
    "version": 3
   },
   "file_extension": ".py",
   "mimetype": "text/x-python",
   "name": "python",
   "nbconvert_exporter": "python",
   "pygments_lexer": "ipython3",
   "version": "3.12.11"
  }
 },
 "nbformat": 4,
 "nbformat_minor": 2
}
