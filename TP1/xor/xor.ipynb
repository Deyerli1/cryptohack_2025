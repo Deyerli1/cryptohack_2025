{
 "cells": [
  {
   "cell_type": "code",
   "execution_count": 1,
   "id": "43389ef8",
   "metadata": {},
   "outputs": [],
   "source": [
    "# imports\n",
    "from pwn import *"
   ]
  },
  {
   "cell_type": "markdown",
   "id": "06f60a44",
   "metadata": {},
   "source": [
    "### XOR Starter ###\n",
    "Self evident. XOR each char in label with interger 13 (in bits obviously). Key = crypto{aloha}\n"
   ]
  },
  {
   "cell_type": "code",
   "execution_count": 2,
   "id": "5a6e416e",
   "metadata": {},
   "outputs": [
    {
     "name": "stdout",
     "output_type": "stream",
     "text": [
      "aloha\n"
     ]
    }
   ],
   "source": [
    "xorFlag = []\n",
    "for c in \"label\":\n",
    "  val = chr(ord(c) ^ 13)\n",
    "  xorFlag.append(val)\n",
    "\n",
    "print(\"\".join(xorFlag))\n"
   ]
  },
  {
   "cell_type": "markdown",
   "id": "6029e550",
   "metadata": {},
   "source": [
    "### XOR Properties ###\n",
    "KEY2 ^ (KEY1 ^ KEY1) = KEY2\n",
    "\n",
    "KEY3 ^ (KEY2 ^ KEY2) = KEY3\n",
    "\n",
    "FLAG = FLAG ^ (KEY1 ^ KEY1) ^ (KEY3 ^ KEY3) ^ (KEY2 ^ KEY2)"
   ]
  },
  {
   "cell_type": "code",
   "execution_count": 26,
   "id": "bb3d2c06",
   "metadata": {},
   "outputs": [
    {
     "name": "stdout",
     "output_type": "stream",
     "text": [
      "crypto{x0r_i5_ass0c1at1v3}\n"
     ]
    }
   ],
   "source": [
    "KEY1 = bytes.fromhex(\"a6c8b6733c9b22de7bc0253266a3867df55acde8635e19c73313\")\n",
    "key2_xor_key1 = bytes.fromhex(\"37dcb292030faa90d07eec17e3b1c6d8daf94c35d4c9191a5e1e\")\n",
    "key2_xor_key3 = bytes.fromhex(\"c1545756687e7573db23aa1c3452a098b71a7fbf0fddddde5fc1\")\n",
    "flag_xor_all  = bytes.fromhex(\"04ee9855208a2cd59091d04767ae47963170d1660df7f56f5faf\")\n",
    "\n",
    "KEY2 = xor(key2_xor_key1, KEY1)\n",
    "KEY3 = xor(key2_xor_key3, KEY2)\n",
    "flag = xor(flag_xor_all, KEY1, KEY2, KEY3)\n",
    "print(flag.decode())"
   ]
  },
  {
   "cell_type": "markdown",
   "id": "e1110839",
   "metadata": {},
   "source": [
    "### Favourite byte ###\n",
    "\n",
    "1 byte = 8 bits = 256 posibilities. \n",
    "We XOR every char in secret with each number from 0 to 254. Flag has to have 'crypto' in it, therefore only print that"
   ]
  },
  {
   "cell_type": "code",
   "execution_count": 3,
   "id": "70de92b5",
   "metadata": {},
   "outputs": [
    {
     "name": "stdout",
     "output_type": "stream",
     "text": [
      "b'crypto{0x10_15_my_f4v0ur173_by7e}'\n"
     ]
    }
   ],
   "source": [
    "secret = bytes.fromhex(\"73626960647f6b206821204f21254f7d694f7624662065622127234f726927756d\")\n",
    "for key in range(256):\n",
    "    decoded = bytes([b ^ key for b in secret])\n",
    "    if \"crypto\" in decoded.decode(\"utf-8\"):\n",
    "        print(decoded)\n",
    "        break\n"
   ]
  },
  {
   "cell_type": "markdown",
   "id": "4fe94abf",
   "metadata": {},
   "source": [
    "### You either know, XOR you don’t ###\n",
    "I've encrypted the flag with my secret key, you'll never be able to guess it.\n",
    "\n",
    "### Solution ###\n",
    "I got until using \"crypto{\". The 1 was a random shot that managed to get me the Y I needed. Then I got the key and XOR'd with the secret"
   ]
  },
  {
   "cell_type": "code",
   "execution_count": 152,
   "id": "37b42cbd",
   "metadata": {},
   "outputs": [
    {
     "name": "stdout",
     "output_type": "stream",
     "text": [
      "secret length:  42\n",
      "known_start:  8\n",
      "Key start: b'myXORkey'\n",
      "Decrypted flag: crypto{1f_y0u_Kn0w_En0uGH_y0u_Kn0w_1t_4ll}\n"
     ]
    }
   ],
   "source": [
    "secret = bytes.fromhex(\"0e0b213f26041e480b26217f27342e175d0e070a3c5b103e2526217f27342e175d0e077e263451150104\")\n",
    "flag_start = b\"crypto{1\"\n",
    "\n",
    "print(\"secret length: \", len(secret))\n",
    "print(\"known_start: \", len(flag_start))\n",
    "\n",
    "key_start = b\"\"\n",
    "for i in range(len(flag_start)):\n",
    "    key_start += bytes([secret[i] ^ flag_start[i]])\n",
    "print(\"Key start:\", key_start)\n",
    "\n",
    "key = b\"myXORkey\"\n",
    "decrypted = b\"\"\n",
    "for i in range(len(secret)):\n",
    "    decrypted += bytes([secret[i] ^ key[i % len(key)]])\n",
    "\n",
    "print(\"Decrypted flag:\", decrypted.decode())"
   ]
  },
  {
   "cell_type": "markdown",
   "id": "4515e1c6",
   "metadata": {},
   "source": [
    "### Lemur XOR ###\n",
    "\n",
    "Load images as numpy arrays, XOR them with each other, save resulting image."
   ]
  },
  {
   "cell_type": "code",
   "execution_count": 3,
   "id": "6743d0d4",
   "metadata": {},
   "outputs": [],
   "source": [
    "# Method 1: Using PIL/Pillow (most common)\n",
    "from PIL import Image\n",
    "import numpy as np\n",
    "\n",
    "\n",
    "flag_img = Image.open(\"flag.png\")\n",
    "flag_array = np.array(flag_img)\n",
    "\n",
    "lemur_img = Image.open(\"lemur.png\")\n",
    "lemur_array = np.array(lemur_img)\n",
    "\n",
    "xor_array = np.bitwise_xor(flag_array, lemur_array)\n",
    "xor_img = Image.fromarray(xor_array)\n",
    "xor_img.save(\"xor.png\")\n",
    "\n",
    "\n"
   ]
  }
 ],
 "metadata": {
  "kernelspec": {
   "display_name": "matematicaAplicada",
   "language": "python",
   "name": "python3"
  },
  "language_info": {
   "codemirror_mode": {
    "name": "ipython",
    "version": 3
   },
   "file_extension": ".py",
   "mimetype": "text/x-python",
   "name": "python",
   "nbconvert_exporter": "python",
   "pygments_lexer": "ipython3",
   "version": "3.12.11"
  }
 },
 "nbformat": 4,
 "nbformat_minor": 5
}
