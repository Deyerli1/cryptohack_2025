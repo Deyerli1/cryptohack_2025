{
 "cells": [
  {
   "cell_type": "code",
   "execution_count": 1,
   "id": "f6db2547",
   "metadata": {},
   "outputs": [
    {
     "name": "stderr",
     "output_type": "stream",
     "text": [
      "[*] Checking for new versions of pwntools\n",
      "    To disable this functionality, set the contents of C:\\Users\\Tomas\\.cache\\.pwntools-cache-3.12\\update to 'never' (old way).\n",
      "    Or add the following lines to ~/.pwn.conf or ~/.config/pwn.conf (or /etc/pwn.conf system-wide):\n",
      "        [update]\n",
      "        interval=never\n",
      "[*] You have the latest version of Pwntools (4.14.1)\n"
     ]
    }
   ],
   "source": [
    "from pwn import * # pip install pwntools\n",
    "import json\n",
    "import base64\n",
    "import codecs"
   ]
  },
  {
   "cell_type": "markdown",
   "id": "1c6c578b",
   "metadata": {},
   "source": [
    "### ASCII Solution ###\n",
    "Convert intergers to ASCI characters"
   ]
  },
  {
   "cell_type": "code",
   "execution_count": 2,
   "id": "612ce938",
   "metadata": {},
   "outputs": [
    {
     "name": "stdout",
     "output_type": "stream",
     "text": [
      "crypto{ASCII_pr1nt4bl3}\n"
     ]
    }
   ],
   "source": [
    "coded_flag = [99, 114, 121, 112, 116, 111, 123, 65, 83, 67, 73, 73, 95, 112, 114, 49, 110, 116, 52, 98, 108, 51, 125]\n",
    "flag = \"\"\n",
    "for i in coded_flag:\n",
    "    flag += chr(i)\n",
    "print(flag)"
   ]
  },
  {
   "cell_type": "markdown",
   "id": "6190b052",
   "metadata": {},
   "source": [
    "### HEX  SOLUTION ###\n",
    "\n",
    "Decode HEX string with to UTF"
   ]
  },
  {
   "cell_type": "code",
   "execution_count": 3,
   "id": "b1a99770",
   "metadata": {},
   "outputs": [
    {
     "name": "stdout",
     "output_type": "stream",
     "text": [
      "crypto{You_will_be_working_with_hex_strings_a_lot}\n"
     ]
    }
   ],
   "source": [
    "hex_string = \"63727970746f7b596f755f77696c6c5f62655f776f726b696e675f776974685f6865785f737472696e67735f615f6c6f747d\"\n",
    "decoded_hex = bytes.fromhex(hex_string).decode('utf-8')\n",
    "print(decoded_hex)"
   ]
  },
  {
   "cell_type": "markdown",
   "id": "737517bd",
   "metadata": {},
   "source": [
    "### Base64 Solution ###\n",
    "\n",
    "Take the below hex string, decode it into bytes and then encode it into Base64."
   ]
  },
  {
   "cell_type": "code",
   "execution_count": 4,
   "id": "69cf71e2",
   "metadata": {},
   "outputs": [
    {
     "name": "stdout",
     "output_type": "stream",
     "text": [
      "b'crypto/Base+64+Encoding+is+Web+Safe/'\n"
     ]
    }
   ],
   "source": [
    "hexString = \"72bca9b68fc16ac7beeb8f849dca1d8a783e8acf9679bf9269f7bf\"\n",
    "decoded_hex = bytes.fromhex(hexString)\n",
    "encoded = base64.b64encode(decoded_hex)\n",
    "print(encoded)"
   ]
  },
  {
   "cell_type": "markdown",
   "id": "38720956",
   "metadata": {},
   "source": [
    "### Bytes and Big Ints ###\n",
    "\n",
    "Cryptosystems like RSA works on numbers, but messages are made up of characters. How should we convert our messages into numbers so that mathematical operations can be applied?\n",
    "\n",
    "The most common way is to take the ordinal bytes of the message, convert them into hexadecimal, and concatenate. This can be interpreted as a base-16/hexadecimal number, and also represented in base-10/decimal.\n",
    "\n",
    "To illustrate:\n",
    "```\n",
    "\n",
    "message: HELLO\n",
    "ascii bytes: [72, 69, 76, 76, 79]\n",
    "hex bytes: [0x48, 0x45, 0x4c, 0x4c, 0x4f]\n",
    "base-16: 0x48454c4c4f\n",
    "base-10: 310400273487\n",
    "\n",
    "```\n",
    "Convert the following integer back into a message:\n",
    "> 11515195063862318899931685488813747395775516287289682636499965282714637259206269"
   ]
  },
  {
   "cell_type": "code",
   "execution_count": 5,
   "id": "35e73607",
   "metadata": {},
   "outputs": [
    {
     "name": "stdout",
     "output_type": "stream",
     "text": [
      "0x63727970746f7b336e633064316e365f346c6c5f3768335f7734795f6430776e7d\n",
      "b'crypto{3nc0d1n6_4ll_7h3_w4y_d0wn}'\n"
     ]
    }
   ],
   "source": [
    "decimal = 11515195063862318899931685488813747395775516287289682636499965282714637259206269\n",
    "hex_val = hex(decimal)\n",
    "print(hex_val)\n",
    "decoded_hex = bytes.fromhex(hex_val[2:]) # remove 0x from hex_val\n",
    "print(decoded_hex)\n"
   ]
  },
  {
   "cell_type": "markdown",
   "id": "fb34527c",
   "metadata": {},
   "source": [
    "### Encoding Challenge Solution ###\n",
    "\n",
    "Receive json string encoded and its type of encoding. Depending on enconding, decode with appropiate methods and send the decoded value. If decoded value is incorrect, server will return error and stop program. Once 100 iterations have passed, server will return the flag.\n",
    "\n",
    "crypto{3nc0d3_d3c0d3_3nc0d3}"
   ]
  },
  {
   "cell_type": "code",
   "execution_count": 7,
   "id": "aa120d9f",
   "metadata": {},
   "outputs": [
    {
     "name": "stdout",
     "output_type": "stream",
     "text": [
      "[x] Opening connection to socket.cryptohack.org on port 13377\n",
      "[x] Opening connection to socket.cryptohack.org on port 13377: Trying 134.122.111.232\n",
      "[+] Opening connection to socket.cryptohack.org on port 13377: Done\n",
      "Set:  1\n",
      "Decoded value:  exam_agenda_genuine\n",
      "Set:  2\n",
      "Decoded value:  electric_greek_madison\n",
      "Set:  3\n",
      "Decoded value:  copyright_neck_goto\n",
      "Set:  4\n",
      "Decoded value:  sessions_beginners_ala\n",
      "Set:  5\n",
      "Decoded value:  wires_basics_barriers\n",
      "Set:  6\n",
      "Decoded value:  snow_repeated_dispatch\n",
      "Set:  7\n",
      "Decoded value:  euro_tommy_messages\n",
      "Set:  8\n",
      "Decoded value:  advisor_greensboro_entry\n",
      "Set:  9\n",
      "Decoded value:  foam_environmental_much\n",
      "Set:  10\n"
     ]
    },
    {
     "ename": "KeyboardInterrupt",
     "evalue": "",
     "output_type": "error",
     "traceback": [
      "\u001b[31m---------------------------------------------------------------------------\u001b[39m",
      "\u001b[31mKeyboardInterrupt\u001b[39m                         Traceback (most recent call last)",
      "\u001b[36mCell\u001b[39m\u001b[36m \u001b[39m\u001b[32mIn[7]\u001b[39m\u001b[32m, line 13\u001b[39m\n\u001b[32m     11\u001b[39m \u001b[38;5;28;01mfor\u001b[39;00m i \u001b[38;5;129;01min\u001b[39;00m \u001b[38;5;28mrange\u001b[39m(\u001b[32m101\u001b[39m):\n\u001b[32m     12\u001b[39m     \u001b[38;5;28mprint\u001b[39m(\u001b[33m\"\u001b[39m\u001b[33mSet: \u001b[39m\u001b[33m\"\u001b[39m, \u001b[38;5;28mset\u001b[39m)\n\u001b[32m---> \u001b[39m\u001b[32m13\u001b[39m     received = \u001b[43mjson_recv\u001b[49m\u001b[43m(\u001b[49m\u001b[43m)\u001b[49m\n\u001b[32m     14\u001b[39m     \u001b[38;5;28;01mif\u001b[39;00m \u001b[33m\"\u001b[39m\u001b[33mflag\u001b[39m\u001b[33m\"\u001b[39m \u001b[38;5;129;01min\u001b[39;00m received:\n\u001b[32m     15\u001b[39m         \u001b[38;5;28mprint\u001b[39m(\u001b[33m\"\u001b[39m\u001b[33mFlag: \u001b[39m\u001b[33m\"\u001b[39m, received[\u001b[33m\"\u001b[39m\u001b[33mflag\u001b[39m\u001b[33m\"\u001b[39m])\n",
      "\u001b[36mCell\u001b[39m\u001b[36m \u001b[39m\u001b[32mIn[7]\u001b[39m\u001b[32m, line 4\u001b[39m, in \u001b[36mjson_recv\u001b[39m\u001b[34m()\u001b[39m\n\u001b[32m      3\u001b[39m \u001b[38;5;28;01mdef\u001b[39;00m\u001b[38;5;250m \u001b[39m\u001b[34mjson_recv\u001b[39m():\n\u001b[32m----> \u001b[39m\u001b[32m4\u001b[39m     line = \u001b[43mr\u001b[49m\u001b[43m.\u001b[49m\u001b[43mrecvline\u001b[49m\u001b[43m(\u001b[49m\u001b[43m)\u001b[49m\n\u001b[32m      5\u001b[39m     \u001b[38;5;28;01mreturn\u001b[39;00m json.loads(line.decode())\n",
      "\u001b[36mFile \u001b[39m\u001b[32ma:\\anaconda\\envs\\matematicaAplicada\\Lib\\site-packages\\pwnlib\\tubes\\tube.py:527\u001b[39m, in \u001b[36mtube.recvline\u001b[39m\u001b[34m(self, keepends, timeout)\u001b[39m\n\u001b[32m    465\u001b[39m \u001b[38;5;250m\u001b[39m\u001b[33mr\u001b[39m\u001b[33;03m\"\"\"recvline(keepends=True, timeout=default) -> bytes\u001b[39;00m\n\u001b[32m    466\u001b[39m \n\u001b[32m    467\u001b[39m \u001b[33;03mReceive a single line from the tube.\u001b[39;00m\n\u001b[32m   (...)\u001b[39m\u001b[32m    524\u001b[39m \u001b[33;03m    EOFError\u001b[39;00m\n\u001b[32m    525\u001b[39m \u001b[33;03m\"\"\"\u001b[39;00m\n\u001b[32m    526\u001b[39m \u001b[38;5;28;01mtry\u001b[39;00m:\n\u001b[32m--> \u001b[39m\u001b[32m527\u001b[39m     \u001b[38;5;28;01mreturn\u001b[39;00m \u001b[38;5;28;43mself\u001b[39;49m\u001b[43m.\u001b[49m\u001b[43mrecvuntil\u001b[49m\u001b[43m(\u001b[49m\u001b[38;5;28;43mself\u001b[39;49m\u001b[43m.\u001b[49m\u001b[43mnewline\u001b[49m\u001b[43m,\u001b[49m\u001b[43m \u001b[49m\u001b[43mdrop\u001b[49m\u001b[43m \u001b[49m\u001b[43m=\u001b[49m\u001b[43m \u001b[49m\u001b[38;5;129;43;01mnot\u001b[39;49;00m\u001b[43m \u001b[49m\u001b[43mkeepends\u001b[49m\u001b[43m,\u001b[49m\u001b[43m \u001b[49m\u001b[43mtimeout\u001b[49m\u001b[43m \u001b[49m\u001b[43m=\u001b[49m\u001b[43m \u001b[49m\u001b[43mtimeout\u001b[49m\u001b[43m)\u001b[49m\n\u001b[32m    528\u001b[39m \u001b[38;5;28;01mexcept\u001b[39;00m \u001b[38;5;167;01mEOFError\u001b[39;00m:\n\u001b[32m    529\u001b[39m     \u001b[38;5;28;01mif\u001b[39;00m \u001b[38;5;129;01mnot\u001b[39;00m context.throw_eof_on_incomplete_line \u001b[38;5;129;01mand\u001b[39;00m \u001b[38;5;28mself\u001b[39m.buffer.size > \u001b[32m0\u001b[39m:\n",
      "\u001b[36mFile \u001b[39m\u001b[32ma:\\anaconda\\envs\\matematicaAplicada\\Lib\\site-packages\\pwnlib\\tubes\\tube.py:341\u001b[39m, in \u001b[36mtube.recvuntil\u001b[39m\u001b[34m(self, delims, drop, timeout)\u001b[39m\n\u001b[32m    339\u001b[39m \u001b[38;5;28;01mwhile\u001b[39;00m \u001b[38;5;28mself\u001b[39m.countdown_active():\n\u001b[32m    340\u001b[39m     \u001b[38;5;28;01mtry\u001b[39;00m:\n\u001b[32m--> \u001b[39m\u001b[32m341\u001b[39m         res = \u001b[38;5;28;43mself\u001b[39;49m\u001b[43m.\u001b[49m\u001b[43mrecv\u001b[49m\u001b[43m(\u001b[49m\u001b[43mtimeout\u001b[49m\u001b[43m=\u001b[49m\u001b[38;5;28;43mself\u001b[39;49m\u001b[43m.\u001b[49m\u001b[43mtimeout\u001b[49m\u001b[43m)\u001b[49m\n\u001b[32m    342\u001b[39m     \u001b[38;5;28;01mexcept\u001b[39;00m \u001b[38;5;167;01mException\u001b[39;00m:\n\u001b[32m    343\u001b[39m         \u001b[38;5;28mself\u001b[39m.unrecv(\u001b[33mb\u001b[39m\u001b[33m'\u001b[39m\u001b[33m'\u001b[39m.join(data) + top)\n",
      "\u001b[36mFile \u001b[39m\u001b[32ma:\\anaconda\\envs\\matematicaAplicada\\Lib\\site-packages\\pwnlib\\tubes\\tube.py:106\u001b[39m, in \u001b[36mtube.recv\u001b[39m\u001b[34m(self, numb, timeout)\u001b[39m\n\u001b[32m     75\u001b[39m \u001b[38;5;250m\u001b[39m\u001b[33mr\u001b[39m\u001b[33;03m\"\"\"recv(numb = 4096, timeout = default) -> bytes\u001b[39;00m\n\u001b[32m     76\u001b[39m \n\u001b[32m     77\u001b[39m \u001b[33;03mReceives up to `numb` bytes of data from the tube, and returns\u001b[39;00m\n\u001b[32m   (...)\u001b[39m\u001b[32m    103\u001b[39m \u001b[33;03m        b'Hello, world'\u001b[39;00m\n\u001b[32m    104\u001b[39m \u001b[33;03m\"\"\"\u001b[39;00m\n\u001b[32m    105\u001b[39m numb = \u001b[38;5;28mself\u001b[39m.buffer.get_fill_size(numb)\n\u001b[32m--> \u001b[39m\u001b[32m106\u001b[39m \u001b[38;5;28;01mreturn\u001b[39;00m \u001b[38;5;28;43mself\u001b[39;49m\u001b[43m.\u001b[49m\u001b[43m_recv\u001b[49m\u001b[43m(\u001b[49m\u001b[43mnumb\u001b[49m\u001b[43m,\u001b[49m\u001b[43m \u001b[49m\u001b[43mtimeout\u001b[49m\u001b[43m)\u001b[49m \u001b[38;5;129;01mor\u001b[39;00m \u001b[33mb\u001b[39m\u001b[33m'\u001b[39m\u001b[33m'\u001b[39m\n",
      "\u001b[36mFile \u001b[39m\u001b[32ma:\\anaconda\\envs\\matematicaAplicada\\Lib\\site-packages\\pwnlib\\tubes\\tube.py:176\u001b[39m, in \u001b[36mtube._recv\u001b[39m\u001b[34m(self, numb, timeout)\u001b[39m\n\u001b[32m    172\u001b[39m numb = \u001b[38;5;28mself\u001b[39m.buffer.get_fill_size(numb)\n\u001b[32m    174\u001b[39m \u001b[38;5;66;03m# No buffered data, could not put anything in the buffer\u001b[39;00m\n\u001b[32m    175\u001b[39m \u001b[38;5;66;03m# before timeout.\u001b[39;00m\n\u001b[32m--> \u001b[39m\u001b[32m176\u001b[39m \u001b[38;5;28;01mif\u001b[39;00m \u001b[38;5;129;01mnot\u001b[39;00m \u001b[38;5;28mself\u001b[39m.buffer \u001b[38;5;129;01mand\u001b[39;00m \u001b[38;5;129;01mnot\u001b[39;00m \u001b[38;5;28;43mself\u001b[39;49m\u001b[43m.\u001b[49m\u001b[43m_fillbuffer\u001b[49m\u001b[43m(\u001b[49m\u001b[43mtimeout\u001b[49m\u001b[43m)\u001b[49m:\n\u001b[32m    177\u001b[39m     \u001b[38;5;28;01mreturn\u001b[39;00m \u001b[33mb\u001b[39m\u001b[33m'\u001b[39m\u001b[33m'\u001b[39m\n\u001b[32m    179\u001b[39m \u001b[38;5;28;01mreturn\u001b[39;00m \u001b[38;5;28mself\u001b[39m.buffer.get(numb)\n",
      "\u001b[36mFile \u001b[39m\u001b[32ma:\\anaconda\\envs\\matematicaAplicada\\Lib\\site-packages\\pwnlib\\tubes\\tube.py:155\u001b[39m, in \u001b[36mtube._fillbuffer\u001b[39m\u001b[34m(self, timeout)\u001b[39m\n\u001b[32m    152\u001b[39m data = \u001b[33mb\u001b[39m\u001b[33m'\u001b[39m\u001b[33m'\u001b[39m\n\u001b[32m    154\u001b[39m \u001b[38;5;28;01mwith\u001b[39;00m \u001b[38;5;28mself\u001b[39m.local(timeout):\n\u001b[32m--> \u001b[39m\u001b[32m155\u001b[39m     data = \u001b[38;5;28;43mself\u001b[39;49m\u001b[43m.\u001b[49m\u001b[43mrecv_raw\u001b[49m\u001b[43m(\u001b[49m\u001b[38;5;28;43mself\u001b[39;49m\u001b[43m.\u001b[49m\u001b[43mbuffer\u001b[49m\u001b[43m.\u001b[49m\u001b[43mget_fill_size\u001b[49m\u001b[43m(\u001b[49m\u001b[43m)\u001b[49m\u001b[43m)\u001b[49m\n\u001b[32m    157\u001b[39m \u001b[38;5;28;01mif\u001b[39;00m data \u001b[38;5;129;01mand\u001b[39;00m \u001b[38;5;28mself\u001b[39m.isEnabledFor(logging.DEBUG):\n\u001b[32m    158\u001b[39m     \u001b[38;5;28mself\u001b[39m.debug(\u001b[33m'\u001b[39m\u001b[33mReceived \u001b[39m\u001b[38;5;132;01m%#x\u001b[39;00m\u001b[33m bytes:\u001b[39m\u001b[33m'\u001b[39m % \u001b[38;5;28mlen\u001b[39m(data))\n",
      "\u001b[36mFile \u001b[39m\u001b[32ma:\\anaconda\\envs\\matematicaAplicada\\Lib\\site-packages\\pwnlib\\tubes\\sock.py:39\u001b[39m, in \u001b[36msock.recv_raw\u001b[39m\u001b[34m(self, numb, *a)\u001b[39m\n\u001b[32m     37\u001b[39m \u001b[38;5;28;01mwhile\u001b[39;00m \u001b[38;5;28;01mTrue\u001b[39;00m:\n\u001b[32m     38\u001b[39m     \u001b[38;5;28;01mtry\u001b[39;00m:\n\u001b[32m---> \u001b[39m\u001b[32m39\u001b[39m         data = \u001b[38;5;28;43mself\u001b[39;49m\u001b[43m.\u001b[49m\u001b[43msock\u001b[49m\u001b[43m.\u001b[49m\u001b[43mrecv\u001b[49m\u001b[43m(\u001b[49m\u001b[43mnumb\u001b[49m\u001b[43m,\u001b[49m\u001b[43m \u001b[49m\u001b[43m*\u001b[49m\u001b[43ma\u001b[49m\u001b[43m)\u001b[49m\n\u001b[32m     40\u001b[39m         \u001b[38;5;28;01mbreak\u001b[39;00m\n\u001b[32m     41\u001b[39m     \u001b[38;5;28;01mexcept\u001b[39;00m socket.timeout:\n",
      "\u001b[31mKeyboardInterrupt\u001b[39m: "
     ]
    }
   ],
   "source": [
    "r = remote('socket.cryptohack.org', 13377)\n",
    "\n",
    "def json_recv():\n",
    "    line = r.recvline()\n",
    "    return json.loads(line.decode())\n",
    "\n",
    "def json_send(hsh):\n",
    "    request = json.dumps(hsh).encode()\n",
    "    r.sendline(request)\n",
    "set = 1\n",
    "for i in range(101):\n",
    "    print(\"Set: \", set)\n",
    "    received = json_recv()\n",
    "    if \"flag\" in received:\n",
    "        print(\"Flag: \", received[\"flag\"])\n",
    "        break\n",
    "\n",
    "\n",
    "    decoded = \"\"\n",
    "    encoding = received[\"type\"]\n",
    "    if encoding == \"base64\":\n",
    "        decoded = base64.b64decode(received[\"encoded\"]).decode()\n",
    "    elif encoding == \"hex\":\n",
    "        decoded = bytes.fromhex(received[\"encoded\"]).decode()\n",
    "    elif encoding == \"rot13\":\n",
    "        decoded = codecs.encode(received[\"encoded\"], 'rot_13')\n",
    "    elif encoding == \"bigint\":\n",
    "        decoded = bytes.fromhex(hex(int(received[\"encoded\"], 16))[2:]).decode()\n",
    "    elif encoding == \"utf-8\":\n",
    "        decoded = \"\".join([chr(int(b)) for b in received[\"encoded\"]])\n",
    "    print(\"Decoded value: \", decoded)\n",
    "    to_send = {\n",
    "        \"decoded\": decoded\n",
    "    }\n",
    "    json_send(to_send)\n",
    "    set += 1\n"
   ]
  },
  {
   "cell_type": "code",
   "execution_count": null,
   "id": "1c58af45",
   "metadata": {},
   "outputs": [],
   "source": []
  }
 ],
 "metadata": {
  "kernelspec": {
   "display_name": "matematicaAplicada",
   "language": "python",
   "name": "python3"
  },
  "language_info": {
   "codemirror_mode": {
    "name": "ipython",
    "version": 3
   },
   "file_extension": ".py",
   "mimetype": "text/x-python",
   "name": "python",
   "nbconvert_exporter": "python",
   "pygments_lexer": "ipython3",
   "version": "3.12.11"
  }
 },
 "nbformat": 4,
 "nbformat_minor": 5
}
