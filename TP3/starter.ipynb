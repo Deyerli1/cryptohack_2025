{
 "cells": [
  {
   "cell_type": "markdown",
   "id": "86edee29",
   "metadata": {},
   "source": [
    "### Modular Exponentiation ###\n"
   ]
  },
  {
   "cell_type": "code",
   "execution_count": 1,
   "id": "2c2b61ad",
   "metadata": {},
   "outputs": [
    {
     "name": "stdout",
     "output_type": "stream",
     "text": [
      "19906\n"
     ]
    }
   ],
   "source": [
    "print(pow(101,17,22663))"
   ]
  },
  {
   "cell_type": "markdown",
   "id": "59e796d5",
   "metadata": {},
   "source": [
    "### Public Keys ###"
   ]
  },
  {
   "cell_type": "code",
   "execution_count": 2,
   "id": "7484e286",
   "metadata": {},
   "outputs": [
    {
     "name": "stdout",
     "output_type": "stream",
     "text": [
      "301\n"
     ]
    }
   ],
   "source": [
    "print(pow(12,65537,17*23))"
   ]
  },
  {
   "cell_type": "markdown",
   "id": "b95a82c3",
   "metadata": {},
   "source": [
    "### Euler's Totient ###\n",
    "ϕ(N) = ϕ(p) . ϕ(q) porque p y q primos. ϕ(primo) = primo-1"
   ]
  },
  {
   "cell_type": "code",
   "execution_count": 4,
   "id": "b5e36fcc",
   "metadata": {},
   "outputs": [
    {
     "name": "stdout",
     "output_type": "stream",
     "text": [
      "882564595536224140639625987657529300394956519977044270821168\n"
     ]
    }
   ],
   "source": [
    "print((857504083339712752489993810777-1)*(1029224947942998075080348647219-1))"
   ]
  },
  {
   "cell_type": "markdown",
   "id": "7316676f",
   "metadata": {},
   "source": [
    "### Private Keys ###\n",
    "\n",
    "code provided by copilot."
   ]
  },
  {
   "cell_type": "code",
   "execution_count": 12,
   "id": "050ed286",
   "metadata": {},
   "outputs": [
    {
     "name": "stdout",
     "output_type": "stream",
     "text": [
      "121832886702415731577073962957377780195510499965398469843281\n"
     ]
    }
   ],
   "source": [
    "def extended_gcd(a, b):\n",
    "    \"\"\"\n",
    "    Extended Euclidean Algorithm\n",
    "    Returns (gcd, x, y) such that a*x + b*y = gcd(a, b)\n",
    "    \"\"\"\n",
    "    if a == 0:\n",
    "        return b, 0, 1\n",
    "    \n",
    "    gcd, x1, y1 = extended_gcd(b % a, a)\n",
    "    x = y1 - (b // a) * x1\n",
    "    y = x1\n",
    "    \n",
    "    return gcd, x, y\n",
    "\n",
    "def mod_inverse(a, m):\n",
    "    \"\"\"\n",
    "    Find modular inverse of a modulo m\n",
    "    Returns x such that (a * x) % m = 1\n",
    "    Returns None if inverse doesn't exist\n",
    "    \"\"\"\n",
    "    gcd, x, _ = extended_gcd(a, m)\n",
    "    \n",
    "    if gcd != 1:\n",
    "        return None  # Modular inverse doesn't exist\n",
    "    \n",
    "    return (x % m + m) % m\n",
    "\n",
    "mod = (857504083339712752489993810777 - 1) * (1029224947942998075080348647219 - 1)\n",
    "e = 65537\n",
    "d = mod_inverse(e, mod)\n",
    "print(d)\n"
   ]
  },
  {
   "cell_type": "markdown",
   "id": "e2a57409",
   "metadata": {},
   "source": [
    "### RSA Decryption ###\n",
    "\n",
    "d = e<sup>-1</sup>\n",
    "\n",
    "c = message<sup>e</sup> mod N\n",
    "\n",
    "e<sup>d</sup> = 1\n",
    "\n",
    "message = message<sup>e<sup>d</sup></sup> mod N"
   ]
  },
  {
   "cell_type": "code",
   "execution_count": 13,
   "id": "babf8440",
   "metadata": {},
   "outputs": [
    {
     "name": "stdout",
     "output_type": "stream",
     "text": [
      "13371337\n"
     ]
    }
   ],
   "source": [
    "N = 882564595536224140639625987659416029426239230804614613279163\n",
    "e = 65537\n",
    "c = 77578995801157823671636298847186723593814843845525223303932\n",
    "print(pow(c, d, N))"
   ]
  },
  {
   "cell_type": "markdown",
   "id": "926bd79e",
   "metadata": {},
   "source": [
    "### RSA Signatures ###\n",
    "\n",
    "Hacer lo que dice el ejercicio: hashear mensaje, elevar el hash al exponente d modulo n"
   ]
  },
  {
   "cell_type": "code",
   "execution_count": 2,
   "id": "100bf34e",
   "metadata": {},
   "outputs": [
    {
     "name": "stdout",
     "output_type": "stream",
     "text": [
      "13480738404590090803339831649238454376183189744970683129909766078877706583282422686710545217275797376709672358894231550335007974983458408620258478729775647818876610072903021235573923300070103666940534047644900475773318682585772698155617451477448441198150710420818995347235921111812068656782998168064960965451719491072569057636701190429760047193261886092862024118487826452766513533860734724124228305158914225250488399673645732882077575252662461860972889771112594906884441454355959482925283992539925713424132009768721389828848907099772040836383856524605008942907083490383109757406940540866978237471686296661685839083475\n"
     ]
    }
   ],
   "source": [
    "import hashlib\n",
    "from Crypto.Util.number import bytes_to_long\n",
    "\n",
    "with open(\"private.key\", \"r\") as file:\n",
    "    modulus = file.readline()\n",
    "    private_exponent = file.readline()\n",
    "   \n",
    "modulus = modulus[4:]\n",
    "private_exponent = private_exponent[4:]\n",
    "\n",
    "modulus = int(modulus)\n",
    "private_exponent = int(private_exponent)\n",
    "\n",
    "message = \"crypto{Immut4ble_m3ssag1ng}\"\n",
    "hash = hashlib.sha256(message.encode())\n",
    "hash_digit = bytes_to_long(hash.digest())\n",
    "\n",
    "res = pow(hash_digit, private_exponent, modulus)\n",
    "print(res)\n",
    "\n",
    "\n"
   ]
  }
 ],
 "metadata": {
  "kernelspec": {
   "display_name": "matematicaAplicada",
   "language": "python",
   "name": "python3"
  },
  "language_info": {
   "codemirror_mode": {
    "name": "ipython",
    "version": 3
   },
   "file_extension": ".py",
   "mimetype": "text/x-python",
   "name": "python",
   "nbconvert_exporter": "python",
   "pygments_lexer": "ipython3",
   "version": "3.12.11"
  }
 },
 "nbformat": 4,
 "nbformat_minor": 5
}
