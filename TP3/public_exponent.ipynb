{
 "cells": [
  {
   "cell_type": "markdown",
   "id": "3abba5b8",
   "metadata": {},
   "source": [
    "### Smallest exponent should be fastest, right? ###\n",
    "\n",
    "Me sorprende que ese tal saltstack haya hecho esto. Solucion es simplemente el ct original pasado a bytes por que a<sup>1</sup> = a"
   ]
  },
  {
   "cell_type": "code",
   "execution_count": 3,
   "id": "0c1ef9f2",
   "metadata": {},
   "outputs": [
    {
     "name": "stdout",
     "output_type": "stream",
     "text": [
      "b'crypto{saltstack_fell_for_this!}'\n"
     ]
    }
   ],
   "source": [
    "from Crypto.Util.number import getPrime, inverse, bytes_to_long, long_to_bytes\n",
    "\n",
    "n = 110581795715958566206600392161360212579669637391437097703685154237017351570464767725324182051199901920318211290404777259728923614917211291562555864753005179326101890427669819834642007924406862482343614488768256951616086287044725034412802176312273081322195866046098595306261781788276570920467840172004530873767\n",
    "e = 1\n",
    "ct = 44981230718212183604274785925793145442655465025264554046028251311164494127485\n",
    "\n",
    "decrypted = long_to_bytes(ct)\n",
    "print(decrypted)\n",
    "\n",
    "\n",
    "\n",
    "\n",
    "\n",
    "\n"
   ]
  },
  {
   "cell_type": "markdown",
   "id": "192a2940",
   "metadata": {},
   "source": [
    "### Modulus Inutilis ###\n",
    "\n",
    "Un exponente muy chico puede hacer que el modulo no haga nada, y la encripcion termine siendo una simple exponenciacion. Si m<sup>3</sup> < n entonces c = m<sup>3</sup>.\n",
    "\n",
    "Tambien python pierde precision al hacer la raiz cubica de ct porque es un numero muy grande, y como soy muy vago para buscar una implementacion que pueda hacer la raiz cubica de tales numeros, use una calculadora ya hecha."
   ]
  },
  {
   "cell_type": "code",
   "execution_count": null,
   "id": "ffbbfb8b",
   "metadata": {},
   "outputs": [
    {
     "name": "stdout",
     "output_type": "stream",
     "text": [
      "b'crypto{N33d_m04R_p4dd1ng}'\n"
     ]
    }
   ],
   "source": [
    "from Crypto.Util.number import getPrime, inverse, bytes_to_long, long_to_bytes\n",
    "import math\n",
    "\n",
    "\n",
    "n = 17258212916191948536348548470938004244269544560039009244721959293554822498047075403658429865201816363311805874117705688359853941515579440852166618074161313773416434156467811969628473425365608002907061241714688204565170146117869742910273064909154666642642308154422770994836108669814632309362483307560217924183202838588431342622551598499747369771295105890359290073146330677383341121242366368309126850094371525078749496850520075015636716490087482193603562501577348571256210991732071282478547626856068209192987351212490642903450263288650415552403935705444809043563866466823492258216747445926536608548665086042098252335883\n",
    "e = 3\n",
    "ct = 243251053617903760309941844835411292373350655973075480264001352919865180151222189820473358411037759381328642957324889519192337152355302808400638052620580409813222660643570085177957\n",
    "\n",
    "decrypted = long_to_bytes(624239975241694158443315202759206900318542905782320965248893)\n",
    "print(decrypted)\n",
    "\n",
    "\n",
    "\n",
    "\n",
    "\n",
    "\n",
    "\n"
   ]
  }
 ],
 "metadata": {
  "kernelspec": {
   "display_name": "matematicaAplicada",
   "language": "python",
   "name": "python3"
  },
  "language_info": {
   "codemirror_mode": {
    "name": "ipython",
    "version": 3
   },
   "file_extension": ".py",
   "mimetype": "text/x-python",
   "name": "python",
   "nbconvert_exporter": "python",
   "pygments_lexer": "ipython3",
   "version": "3.12.11"
  }
 },
 "nbformat": 4,
 "nbformat_minor": 5
}
